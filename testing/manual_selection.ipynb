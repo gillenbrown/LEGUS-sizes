{
 "cells": [
  {
   "cell_type": "code",
   "execution_count": 1,
   "metadata": {},
   "outputs": [],
   "source": [
    "%matplotlib inline\n",
    "import sys\n",
    "from astropy import table\n",
    "import numpy as np\n",
    "from pathlib import Path\n",
    "from matplotlib import colors, cm\n",
    "from astropy import convolution\n",
    "import cmocean\n",
    "import betterplotlib as bpl\n",
    "\n",
    "bpl.set_style()"
   ]
  },
  {
   "cell_type": "code",
   "execution_count": 2,
   "metadata": {},
   "outputs": [],
   "source": [
    "home_dir = Path(\"../\").resolve()\n",
    "data_dir = home_dir / \"data\""
   ]
  },
  {
   "cell_type": "code",
   "execution_count": 3,
   "metadata": {},
   "outputs": [],
   "source": [
    "sys.path.append(str(home_dir / \"pipeline\"))\n",
    "import utils"
   ]
  },
  {
   "cell_type": "code",
   "execution_count": 4,
   "metadata": {},
   "outputs": [
    {
     "name": "stderr",
     "output_type": "stream",
     "text": [
      "/Users/gillenb/miniconda3/envs/legus/lib/python3.8/site-packages/astropy/table/table.py:1651: StringTruncateWarning: truncated right side string(s) longer than 7 character(s) during assignment\n",
      "  self.columns[item][:] = value\n"
     ]
    }
   ],
   "source": [
    "catalogs = []\n",
    "for galaxy_dir in data_dir.iterdir():\n",
    "    cat_name = galaxy_dir / \"size\" / \"final_catalog_final_30_pixels_psf_my_stars_15_pixels_2x_oversampled.txt\"\n",
    "    final_cat = table.Table.read(str(cat_name), format=\"ascii.ecsv\")\n",
    "    final_cat[\"distance\"] = utils.distance(galaxy_dir).to(\"Mpc\").value\n",
    "    final_cat[\"galaxy\"] = galaxy_dir.name\n",
    "    \n",
    "    catalogs.append(final_cat)\n",
    "    \n",
    "big_catalog = table.vstack(catalogs, join_type=\"outer\")"
   ]
  },
  {
   "cell_type": "code",
   "execution_count": 9,
   "metadata": {},
   "outputs": [
    {
     "data": {
      "text/plain": [
       "(<MaskedColumn name='selection_flag' dtype='int64' length=5>\n",
       "  0\n",
       "  1\n",
       "  2\n",
       "  4\n",
       " --,\n",
       " array([1046,  178,  107,   34, 5877]))"
      ]
     },
     "execution_count": 9,
     "metadata": {},
     "output_type": "execute_result"
    }
   ],
   "source": [
    "np.unique(big_catalog[\"selection_flag\"], return_counts=True)"
   ]
  },
  {
   "cell_type": "code",
   "execution_count": 13,
   "metadata": {},
   "outputs": [],
   "source": [
    "human_idx = np.where(big_catalog[\"selection_flag\"] > 0)[0]"
   ]
  },
  {
   "cell_type": "code",
   "execution_count": 14,
   "metadata": {},
   "outputs": [
    {
     "data": {
      "text/html": [
       "&lt;Column name=&apos;galaxy&apos; dtype=&apos;str9&apos; length=20&gt;\n",
       "<table>\n",
       "<tr><td>ic559</td></tr>\n",
       "<tr><td>ngc3351</td></tr>\n",
       "<tr><td>ngc3738</td></tr>\n",
       "<tr><td>ngc4242</td></tr>\n",
       "<tr><td>ngc4395-n</td></tr>\n",
       "<tr><td>ngc4395-s</td></tr>\n",
       "<tr><td>ngc4449</td></tr>\n",
       "<tr><td>ngc45</td></tr>\n",
       "<tr><td>ngc4656</td></tr>\n",
       "<tr><td>ngc5253</td></tr>\n",
       "<tr><td>ngc5474</td></tr>\n",
       "<tr><td>ngc5477</td></tr>\n",
       "<tr><td>ugc1249</td></tr>\n",
       "<tr><td>ugc4305</td></tr>\n",
       "<tr><td>ugc4459</td></tr>\n",
       "<tr><td>ugc5139</td></tr>\n",
       "<tr><td>ugc685</td></tr>\n",
       "<tr><td>ugc695</td></tr>\n",
       "<tr><td>ugc7408</td></tr>\n",
       "<tr><td>ugca281</td></tr>\n",
       "</table>"
      ],
      "text/plain": [
       "<Column name='galaxy' dtype='str9' length=20>\n",
       "    ic559\n",
       "  ngc3351\n",
       "  ngc3738\n",
       "  ngc4242\n",
       "ngc4395-n\n",
       "ngc4395-s\n",
       "  ngc4449\n",
       "    ngc45\n",
       "  ngc4656\n",
       "  ngc5253\n",
       "  ngc5474\n",
       "  ngc5477\n",
       "  ugc1249\n",
       "  ugc4305\n",
       "  ugc4459\n",
       "  ugc5139\n",
       "   ugc685\n",
       "   ugc695\n",
       "  ugc7408\n",
       "  ugca281"
      ]
     },
     "execution_count": 14,
     "metadata": {},
     "output_type": "execute_result"
    }
   ],
   "source": [
    "np.unique(big_catalog[\"galaxy\"][human_idx])"
   ]
  },
  {
   "cell_type": "markdown",
   "metadata": {},
   "source": [
    "What are the 4s?"
   ]
  },
  {
   "cell_type": "code",
   "execution_count": 15,
   "metadata": {},
   "outputs": [],
   "source": [
    "selection_4_idx = np.where(big_catalog[\"selection_flag\"] == 4)[0]"
   ]
  },
  {
   "cell_type": "code",
   "execution_count": 16,
   "metadata": {},
   "outputs": [
    {
     "data": {
      "text/html": [
       "&lt;Column name=&apos;galaxy&apos; dtype=&apos;str9&apos; length=3&gt;\n",
       "<table>\n",
       "<tr><td>ngc3351</td></tr>\n",
       "<tr><td>ngc4242</td></tr>\n",
       "<tr><td>ngc45</td></tr>\n",
       "</table>"
      ],
      "text/plain": [
       "<Column name='galaxy' dtype='str9' length=3>\n",
       "ngc3351\n",
       "ngc4242\n",
       "  ngc45"
      ]
     },
     "execution_count": 16,
     "metadata": {},
     "output_type": "execute_result"
    }
   ],
   "source": [
    "np.unique(big_catalog[\"galaxy\"][selection_4_idx])"
   ]
  },
  {
   "cell_type": "markdown",
   "metadata": {},
   "source": [
    "checking the catlogs a value of 4 should not exist, yet it does. I'll assume it means that the source was not identified by the LEGUS pipeline."
   ]
  },
  {
   "cell_type": "code",
   "execution_count": null,
   "metadata": {},
   "outputs": [],
   "source": []
  }
 ],
 "metadata": {
  "kernelspec": {
   "display_name": "legus",
   "language": "python",
   "name": "legus"
  },
  "language_info": {
   "codemirror_mode": {
    "name": "ipython",
    "version": 3
   },
   "file_extension": ".py",
   "mimetype": "text/x-python",
   "name": "python",
   "nbconvert_exporter": "python",
   "pygments_lexer": "ipython3",
   "version": "3.8.5"
  }
 },
 "nbformat": 4,
 "nbformat_minor": 4
}
