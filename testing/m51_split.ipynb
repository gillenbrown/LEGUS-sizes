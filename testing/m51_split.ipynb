{
 "cells": [
  {
   "cell_type": "code",
   "execution_count": 4,
   "metadata": {},
   "outputs": [],
   "source": [
    "from pathlib import Path\n",
    "from astropy import table"
   ]
  },
  {
   "cell_type": "code",
   "execution_count": 7,
   "metadata": {},
   "outputs": [],
   "source": [
    "data_home = Path(\"../data/\")\n",
    "\n",
    "def load_final_cat(galaxy_name):\n",
    "    size_dir = data_home / galaxy_name / \"size\"\n",
    "    cat_name = \"final_catalog_final_30_pixels_psf_my_stars_15_pixels_2x_oversampled.txt\"\n",
    "    return table.Table.read(str(size_dir / cat_name), format=\"ascii.ecsv\")"
   ]
  },
  {
   "cell_type": "code",
   "execution_count": 11,
   "metadata": {},
   "outputs": [],
   "source": [
    "gal_name = \"ngc5194-ngc5195-mosaic\"\n",
    "m51 = load_final_cat(gal_name)"
   ]
  },
  {
   "cell_type": "code",
   "execution_count": 22,
   "metadata": {},
   "outputs": [],
   "source": [
    "out_file_loc = data_home / gal_name / \"clusters.coo\""
   ]
  },
  {
   "cell_type": "code",
   "execution_count": 36,
   "metadata": {},
   "outputs": [],
   "source": [
    "ngc5192_ids = [20266, 20465, 20444, 20512, 23186, 24099, 24434, 24581,\n",
    "               20273, 20431, 20634, 20761, 20973, 21609, 24769, 25663,\n",
    "               20325, 20362, 20439, 20524, 20564, 20335, 20387, 21950,\n",
    "               21932, 22573, 23921, 24439, 25512, 25812, 26348, 26617,\n",
    "               20369, 20443, 20486, 20275, 20438, 20288, 20378, 20450]"
   ]
  },
  {
   "cell_type": "code",
   "execution_count": 45,
   "metadata": {},
   "outputs": [
    {
     "name": "stdout",
     "output_type": "stream",
     "text": [
      "[20266, 20273, 20275, 20288, 20325, 20335, 20362, 20369, 20378, 20387, 20431, 20438, 20439, 20443, 20444, 20450, 20465, 20486, 20512, 20524, 20564, 20634, 20761, 20973, 21609, 21932, 21950, 22573, 23186, 23921, 24099, 24434, 24439, 24581, 24769, 25512, 25663, 25812, 26348, 26617]\n"
     ]
    }
   ],
   "source": [
    "print(sorted(ngc5192_ids))"
   ]
  },
  {
   "cell_type": "code",
   "execution_count": 44,
   "metadata": {},
   "outputs": [],
   "source": [
    "with open(out_file_loc, \"w\") as out_file:\n",
    "    for row in m51:\n",
    "        if row[\"ID\"] in ngc5192_ids:\n",
    "            color = \"green\"\n",
    "            s=50\n",
    "        else:\n",
    "            color = \"cyan\"\n",
    "            s=30\n",
    "#         out_file.write(f\"image; circle {row['x']} {row['y']} 10 # text = '{row['ID']}' color = '{color}'\\n\")\n",
    "        out_file.write(f\"image; circle {row['x']} {row['y']} {s} # color = '{color}'\\n\")\n",
    "\n"
   ]
  },
  {
   "cell_type": "code",
   "execution_count": null,
   "metadata": {},
   "outputs": [],
   "source": []
  }
 ],
 "metadata": {
  "kernelspec": {
   "display_name": "legus",
   "language": "python",
   "name": "legus"
  },
  "language_info": {
   "codemirror_mode": {
    "name": "ipython",
    "version": 3
   },
   "file_extension": ".py",
   "mimetype": "text/x-python",
   "name": "python",
   "nbconvert_exporter": "python",
   "pygments_lexer": "ipython3",
   "version": "3.8.5"
  }
 },
 "nbformat": 4,
 "nbformat_minor": 4
}
