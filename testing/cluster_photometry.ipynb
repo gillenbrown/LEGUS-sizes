{
 "cells": [
  {
   "cell_type": "markdown",
   "id": "unauthorized-enzyme",
   "metadata": {},
   "source": [
    "# cluster_photometry.ipynb\n",
    "\n",
    "I only need cluster photometry for my pipeline as part of my artificial cluster tests. There I want to have clusters with a range of magnitudes. Therefore I need to properly measure the magnitude. I'll follow the explanation set out in [Adamo et al. 2017](https://ui.adsabs.harvard.edu/abs/2017ApJ...841..131A/abstract). Specifically, Section 2.2.1 about the automated pipeline. Step 2 shows that the cluster aperture used is the integer pixel value that includes more than 50% of the cluster flux. According to Figure 2, this looks like 4 pixels. There is also a sky annulus, which is at 7 pixels and is 1 pixel wise (see Step 4). This notebook will check that I can do this well. I will also calibrate the zeropoint with this. Since I change my images to be in electrons, the image zeropoint is now off. I also need to incorporate the aperture corrections. I can attempt to derive this correctly:\n",
    "$$ m = -2.5 \\log(F) + C - C_{apcor}$$\n",
    "$$ m = -2.5 \\log(F_{me} / \\mathrm{exptime}) + 25.731 - 0.634$$\n",
    "$$ m = -2.5 \\log(F_{me}) + 2.5 \\log(\\mathrm{exptime}) + 25.731 - 0.634$$\n",
    "$$ m = -2.5 \\log(F_{me}) + 2.5 \\log(858) + 25.731 - 0.634$$\n",
    "$$ m = -2.5 \\log(F_{me}) + 32.43$$\n",
    "\n",
    "But I tried this, and it didn't work. I was not able to reproduce the cluster magnitudes from the catalog. I manually messed with the zeropoint and found that 32.2 is a better choice. I'm not sure what is causing the difference. But for my purposes, I don't think it matter. I'm still able to reproduce the cluster magnitudes, which is good enough for the purposes of making artificial clusters."
   ]
  },
  {
   "cell_type": "code",
   "execution_count": null,
   "id": "cutting-trance",
   "metadata": {},
   "outputs": [],
   "source": [
    "import sys\n",
    "from pathlib import Path\n",
    "from astropy import table\n",
    "import numpy as np\n",
    "import betterplotlib as bpl\n",
    "\n",
    "bpl.set_style()"
   ]
  },
  {
   "cell_type": "code",
   "execution_count": null,
   "id": "advance-engineering",
   "metadata": {},
   "outputs": [],
   "source": [
    "# need to add the correct path to import utils\n",
    "legus_home_dir = Path(\".\").resolve().parent\n",
    "sys.path.append(str(legus_home_dir / \"pipeline\"))\n",
    "import utils\n",
    "import fit_utils"
   ]
  },
  {
   "cell_type": "code",
   "execution_count": null,
   "id": "geographic-jonathan",
   "metadata": {},
   "outputs": [],
   "source": [
    "data_dir = legus_home_dir / \"data\" / \"ngc628-c\"\n",
    "image_data, _, _ = utils.get_drc_image(data_dir)\n",
    "\n",
    "cat_name = (\n",
    "    f\"final_catalog_final_30_pixels_psf_\"\n",
    "    f\"my_stars_15_pixels_2x_oversampled.txt\"\n",
    ")\n",
    "cat_path = data_dir / \"size\" / cat_name\n",
    "cat = table.Table.read(str(cat_path), format=\"ascii.ecsv\")"
   ]
  },
  {
   "cell_type": "markdown",
   "id": "documentary-domestic",
   "metadata": {},
   "source": [
    "# Define the function to measure the cluster magnitude"
   ]
  },
  {
   "cell_type": "code",
   "execution_count": null,
   "id": "frozen-immune",
   "metadata": {},
   "outputs": [],
   "source": [
    "print(2.5 * np.log10(858) + 25.731 - 0.634)"
   ]
  },
  {
   "cell_type": "code",
   "execution_count": null,
   "id": "assisted-lottery",
   "metadata": {},
   "outputs": [],
   "source": [
    "def distance(x1, y1, x2, y2):\n",
    "    return np.sqrt((x2 - x1) ** 2 + (y2 - y1) ** 2)"
   ]
  },
  {
   "cell_type": "code",
   "execution_count": null,
   "id": "written-trust",
   "metadata": {},
   "outputs": [],
   "source": [
    "def measure_magnitude(snapshot, x_cen, y_cen):\n",
    "    aperture = 4\n",
    "    zeropoint = 32.2\n",
    "    \n",
    "    flux_source = 0\n",
    "    flux_sky = 0\n",
    "    n_pixels_source = 0\n",
    "    n_pixels_sky = 0\n",
    "    for x in range(snapshot.shape[1]):\n",
    "        for y in range(snapshot.shape[0]):\n",
    "            dist = distance(x, y, x_cen, y_cen)\n",
    "            if dist <= aperture:\n",
    "                flux_source += snapshot[y][x]\n",
    "                n_pixels_source += 1\n",
    "                \n",
    "            # then do the sky annulus\n",
    "            if 6.5 <= dist < 7.5:\n",
    "                flux_sky += snapshot[y][x]\n",
    "                n_pixels_sky += 1\n",
    "                \n",
    "    # then subtract the background\n",
    "    flux_source -= flux_sky * (n_pixels_source / n_pixels_sky)\n",
    "    \n",
    "    return -2.5 * np.log10(flux_source) + zeropoint"
   ]
  },
  {
   "cell_type": "markdown",
   "id": "lined-reservoir",
   "metadata": {},
   "source": [
    "# Then use this on clusters"
   ]
  },
  {
   "cell_type": "code",
   "execution_count": null,
   "id": "sustainable-alert",
   "metadata": {},
   "outputs": [],
   "source": [
    "cat[\"mag_F555W_my\"] = 0.0\n",
    "for row in cat:\n",
    "    \n",
    "    # create the snapshot. We use ceiling to get the integer pixel values as python\n",
    "    # indexing does not include the final value. So when we calcualte the offset, it\n",
    "    # naturally gets biased low. Moving the center up fixes that in the easiest way.\n",
    "    x_cen = int(np.ceil(row[\"x\"]))\n",
    "    y_cen = int(np.ceil(row[\"y\"]))\n",
    "\n",
    "    # Get the snapshot, based on the size desired.\n",
    "    # Since we took the ceil of the center, go more in the negative direction (i.e.\n",
    "    # use ceil to get the minimum values). This only matters if the snapshot size is odd\n",
    "    snapshot_size = 30\n",
    "    x_min = x_cen - int(np.ceil(snapshot_size / 2.0))\n",
    "    x_max = x_cen + int(np.floor(snapshot_size / 2.0))\n",
    "    y_min = y_cen - int(np.ceil(snapshot_size / 2.0))\n",
    "    y_max = y_cen + int(np.floor(snapshot_size / 2.0))\n",
    "\n",
    "    data_snapshot = image_data[y_min:y_max, x_min:x_max].copy()\n",
    "\n",
    "    snapshot_x_cen = row[\"x\"] - x_min\n",
    "    snapshot_y_cen = row[\"y\"] - y_min\n",
    "\n",
    "    row[\"mag_F555W_my\"] = measure_magnitude(data_snapshot,\n",
    "                                           snapshot_x_cen, snapshot_y_cen)"
   ]
  },
  {
   "cell_type": "markdown",
   "id": "ordinary-juvenile",
   "metadata": {},
   "source": [
    "# Then compare"
   ]
  },
  {
   "cell_type": "code",
   "execution_count": null,
   "id": "center-possibility",
   "metadata": {},
   "outputs": [],
   "source": [
    "fig, axs = bpl.subplots(ncols=2, figsize=[10, 5])\n",
    "axs[0].scatter(cat[\"mag_F555W\"], cat[\"mag_F555W_my\"], s=10, alpha=0.2)\n",
    "axs[0].add_labels(\"True Magnitude\", \"My Magnitude\")\n",
    "axs[0].plot([0, 100], [0, 100], ls=\":\", lw=0.5, c=bpl.almost_black)\n",
    "axs[0].set_limits(19, 25, 19, 25)\n",
    "axs[0].equal_scale()\n",
    "\n",
    "axs[1].scatter(cat[\"mag_F555W\"], cat[\"mag_F555W\"] - cat[\"mag_F555W_my\"], s=10, alpha=0.2)\n",
    "axs[1].add_labels(\"True Magnitude\", \"Magnitude Difference\")\n",
    "axs[1].plot([0, 100], [0, 0], ls=\":\", lw=0.5, c=bpl.almost_black)\n",
    "axs[1].set_limits(19, 26, -1, 1)"
   ]
  }
 ],
 "metadata": {
  "kernelspec": {
   "display_name": "general",
   "language": "python",
   "name": "general"
  },
  "language_info": {
   "codemirror_mode": {
    "name": "ipython",
    "version": 3
   },
   "file_extension": ".py",
   "mimetype": "text/x-python",
   "name": "python",
   "nbconvert_exporter": "python",
   "pygments_lexer": "ipython3",
   "version": "3.8.6"
  }
 },
 "nbformat": 4,
 "nbformat_minor": 5
}
