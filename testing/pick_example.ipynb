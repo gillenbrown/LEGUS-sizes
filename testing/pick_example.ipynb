{
 "cells": [
  {
   "cell_type": "markdown",
   "id": "stock-contamination",
   "metadata": {},
   "source": [
    "This notebook will simply let me pick potential examples to show, then I can make the plots elsewhere."
   ]
  },
  {
   "cell_type": "code",
   "execution_count": 1,
   "id": "appreciated-playing",
   "metadata": {},
   "outputs": [],
   "source": [
    "%matplotlib inline\n",
    "\n",
    "from pathlib import Path\n",
    "from astropy import table\n",
    "import numpy as np"
   ]
  },
  {
   "cell_type": "code",
   "execution_count": 2,
   "id": "overhead-civilization",
   "metadata": {},
   "outputs": [],
   "source": [
    "cat_name = \"final_catalog_final_30_pixels_psf_my_stars_15_pixels_2x_oversampled.txt\"\n",
    "catalog_paths = []\n",
    "data_dir = Path(\"../data/\").resolve()\n",
    "for cluster_dir in data_dir.iterdir():\n",
    "    if cluster_dir.is_dir() and cluster_dir.name != \"artificial\":\n",
    "        catalog_paths.append(cluster_dir / \"size\" / cat_name)"
   ]
  },
  {
   "cell_type": "code",
   "execution_count": 3,
   "id": "better-relative",
   "metadata": {},
   "outputs": [],
   "source": [
    "catalogs = [table.Table.read(str(c), format=\"ascii.ecsv\") for c in catalog_paths]\n",
    "big_catalog = table.vstack(catalogs, join_type=\"inner\")"
   ]
  },
  {
   "cell_type": "code",
   "execution_count": 4,
   "id": "smaller-sharp",
   "metadata": {},
   "outputs": [
    {
     "data": {
      "text/plain": [
       "['ID',\n",
       " 'x_pix_single',\n",
       " 'y_pix_single',\n",
       " 'RA',\n",
       " 'Dec',\n",
       " 'mag_F275W',\n",
       " 'photoerr_F275W',\n",
       " 'mag_F336W',\n",
       " 'photoerr_F336W',\n",
       " 'mag_F814W',\n",
       " 'photoerr_F814W',\n",
       " 'CI',\n",
       " 'age_yr',\n",
       " 'age_yr_max',\n",
       " 'age_yr_min',\n",
       " 'mass_msun',\n",
       " 'mass_msun_max',\n",
       " 'mass_msun_min',\n",
       " 'E(B-V)',\n",
       " 'E(B-V)_max',\n",
       " 'E(B-V)_min',\n",
       " 'chi_2_F265W',\n",
       " 'chi_2_F336W',\n",
       " 'chi_2_F814W',\n",
       " 'chi_2_reduced',\n",
       " 'Q_probability',\n",
       " 'N_filters',\n",
       " 'x',\n",
       " 'y',\n",
       " 'x_fitted_best',\n",
       " 'y_fitted_best',\n",
       " 'x_pix_snapshot_oversampled_best',\n",
       " 'y_pix_snapshot_oversampled_best',\n",
       " 'log_luminosity_best',\n",
       " 'scale_radius_pixels_best',\n",
       " 'axis_ratio_best',\n",
       " 'position_angle_best',\n",
       " 'power_law_slope_best',\n",
       " 'local_background_best',\n",
       " 'num_boostrapping_iterations',\n",
       " 'from_ml',\n",
       " 'galaxy',\n",
       " 'distance_mpc',\n",
       " 'x_fitted_e+',\n",
       " 'x_fitted_e-',\n",
       " 'y_fitted_e+',\n",
       " 'y_fitted_e-',\n",
       " 'x_pix_snapshot_oversampled_e+',\n",
       " 'x_pix_snapshot_oversampled_e-',\n",
       " 'y_pix_snapshot_oversampled_e+',\n",
       " 'y_pix_snapshot_oversampled_e-',\n",
       " 'log_luminosity_e+',\n",
       " 'log_luminosity_e-',\n",
       " 'scale_radius_pixels_e+',\n",
       " 'scale_radius_pixels_e-',\n",
       " 'axis_ratio_e+',\n",
       " 'axis_ratio_e-',\n",
       " 'position_angle_e+',\n",
       " 'position_angle_e-',\n",
       " 'power_law_slope_e+',\n",
       " 'power_law_slope_e-',\n",
       " 'local_background_e+',\n",
       " 'local_background_e-',\n",
       " 'r_eff_pixels_rmax_15pix_best',\n",
       " 'r_eff_pixels_rmax_15pix_e+',\n",
       " 'r_eff_pixels_rmax_15pix_e-',\n",
       " 'r_eff_arcsec_rmax_15pix_best',\n",
       " 'r_eff_arcsec_rmax_15pix_e+',\n",
       " 'r_eff_arcsec_rmax_15pix_e-',\n",
       " 'r_eff_pc_rmax_15pix_best',\n",
       " 'r_eff_pc_rmax_15pix_e+',\n",
       " 'r_eff_pc_rmax_15pix_e-',\n",
       " 'crossing_time_yr',\n",
       " 'profile_diff_mad',\n",
       " 'profile_diff_max',\n",
       " 'profile_diff_last',\n",
       " 'profile_diff_reff',\n",
       " 'estimated_local_background',\n",
       " 'estimated_local_background_scatter',\n",
       " 'estimated_local_background_diff_sigma',\n",
       " 'fit_rms',\n",
       " 'fractional_err',\n",
       " 'not_failure',\n",
       " 'good_radius',\n",
       " 'good_fit',\n",
       " 'x_pix_single_fitted_best',\n",
       " 'y_pix_single_fitted_best']"
      ]
     },
     "execution_count": 4,
     "metadata": {},
     "output_type": "execute_result"
    }
   ],
   "source": [
    "big_catalog.colnames"
   ]
  },
  {
   "cell_type": "markdown",
   "id": "attractive-oliver",
   "metadata": {},
   "source": [
    "Restrict to ones that succeeded"
   ]
  },
  {
   "cell_type": "code",
   "execution_count": 5,
   "id": "dutch-movement",
   "metadata": {},
   "outputs": [],
   "source": [
    "def restrict(mask):\n",
    "    global big_catalog\n",
    "    big_catalog = big_catalog[mask]"
   ]
  },
  {
   "cell_type": "code",
   "execution_count": 6,
   "id": "short-personal",
   "metadata": {
    "scrolled": true
   },
   "outputs": [],
   "source": [
    "restrict(big_catalog[\"good_radius\"])"
   ]
  },
  {
   "cell_type": "markdown",
   "id": "advisory-architecture",
   "metadata": {},
   "source": [
    "Then restrict to whatever criteria I desire"
   ]
  },
  {
   "cell_type": "code",
   "execution_count": 9,
   "id": "ongoing-occasions",
   "metadata": {},
   "outputs": [],
   "source": [
    "restrict(big_catalog[\"axis_ratio_best\"] > 0.95)\n",
    "restrict(big_catalog[\"power_law_slope_best\"] > 1.5)\n",
    "restrict(big_catalog[\"r_eff_pixels_rmax_15pix_best\"] < 1.0)\n",
    "restrict(big_catalog[\"r_eff_pixels_rmax_15pix_best\"] > 0.7)"
   ]
  },
  {
   "cell_type": "markdown",
   "id": "plain-stereo",
   "metadata": {},
   "source": [
    "Show the potential candidates."
   ]
  },
  {
   "cell_type": "code",
   "execution_count": 10,
   "id": "bronze-bruce",
   "metadata": {},
   "outputs": [
    {
     "name": "stdout",
     "output_type": "stream",
     "text": [
      "ngc5194 12582\n",
      "ngc5194 21429\n",
      "ngc1566 2364\n"
     ]
    }
   ],
   "source": [
    "for row in big_catalog:\n",
    "    print(row[\"galaxy\"], row[\"ID\"])"
   ]
  },
  {
   "cell_type": "code",
   "execution_count": null,
   "id": "exclusive-toolbox",
   "metadata": {},
   "outputs": [],
   "source": []
  }
 ],
 "metadata": {
  "kernelspec": {
   "display_name": "legus",
   "language": "python",
   "name": "legus"
  },
  "language_info": {
   "codemirror_mode": {
    "name": "ipython",
    "version": 3
   },
   "file_extension": ".py",
   "mimetype": "text/x-python",
   "name": "python",
   "nbconvert_exporter": "python",
   "pygments_lexer": "ipython3",
   "version": "3.8.5"
  }
 },
 "nbformat": 4,
 "nbformat_minor": 5
}
