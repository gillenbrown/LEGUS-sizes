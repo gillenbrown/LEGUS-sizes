{
 "cells": [
  {
   "cell_type": "code",
   "execution_count": 1,
   "metadata": {},
   "outputs": [],
   "source": [
    "from pathlib import Path"
   ]
  },
  {
   "cell_type": "code",
   "execution_count": 2,
   "metadata": {},
   "outputs": [],
   "source": [
    "data_dir = Path(\"./data/\").resolve()"
   ]
  },
  {
   "cell_type": "code",
   "execution_count": 5,
   "metadata": {
    "scrolled": true
   },
   "outputs": [],
   "source": [
    "for cluster_dir in data_dir.iterdir():\n",
    "    old_name = \"cluster_fits_30_pixels_psf_my_stars_15_pixels_2x_oversampled.h5\"\n",
    "    new_name = \"cluster_fits_reduced_chi2_30_pixels_psf_my_stars_15_pixels_2x_oversampled.h5\"\n",
    "    \n",
    "    old_item  = cluster_dir / \"size\" / old_name\n",
    "    old_item.rename(cluster_dir / \"size\" / new_name)"
   ]
  },
  {
   "cell_type": "code",
   "execution_count": null,
   "metadata": {},
   "outputs": [],
   "source": []
  }
 ],
 "metadata": {
  "kernelspec": {
   "display_name": "legus",
   "language": "python",
   "name": "legus"
  },
  "language_info": {
   "codemirror_mode": {
    "name": "ipython",
    "version": 3
   },
   "file_extension": ".py",
   "mimetype": "text/x-python",
   "name": "python",
   "nbconvert_exporter": "python",
   "pygments_lexer": "ipython3",
   "version": "3.8.3"
  }
 },
 "nbformat": 4,
 "nbformat_minor": 4
}
